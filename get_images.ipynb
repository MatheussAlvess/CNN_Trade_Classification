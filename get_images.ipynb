{
 "cells": [
  {
   "cell_type": "code",
   "execution_count": 1,
   "metadata": {},
   "outputs": [],
   "source": [
    "import warnings \n",
    "warnings.filterwarnings('ignore')\n",
    "import pandas as pd\n",
    "import os\n",
    "import numpy as np\n",
    "from PIL import Image\n",
    "import yfinance as yf\n",
    "import matplotlib.pyplot as plt \n",
    "from tqdm import tqdm\n",
    "from matplotlib.backends.backend_agg import FigureCanvasAgg"
   ]
  },
  {
   "cell_type": "code",
   "execution_count": 22,
   "metadata": {},
   "outputs": [
    {
     "name": "stderr",
     "output_type": "stream",
     "text": [
      "[*********************100%%**********************]  1 of 1 completed\n"
     ]
    }
   ],
   "source": [
    "data = yf.download(\"VALE3.SA\",start='2010-01-01').reset_index()"
   ]
  },
  {
   "cell_type": "code",
   "execution_count": 28,
   "metadata": {},
   "outputs": [
    {
     "name": "stderr",
     "output_type": "stream",
     "text": [
      "100%|██████████| 176/176 [00:34<00:00,  5.06it/s]\n"
     ]
    }
   ],
   "source": [
    "try:\n",
    "    os.mkdir(f'imgs_example/')\n",
    "except:\n",
    "    print('Fold already exists')\n",
    "\n",
    "\n",
    "timestep = 30\n",
    "count=1\n",
    "for window in tqdm(range(0,data.shape[0],20)):\n",
    "    aux = data[window:window+timestep]\n",
    "    if aux.shape[0] == timestep:\n",
    "        stock_prices = aux.copy()\n",
    "        stock_prices.columns = [col.lower() for col in stock_prices.columns]\n",
    "\n",
    "        fig = plt.figure()\n",
    "\n",
    "        up = stock_prices[stock_prices.close >= stock_prices.open]\n",
    "        down = stock_prices[stock_prices.close < stock_prices.open]\n",
    "        col1 = 'black'\n",
    "        col2 = 'grey'\n",
    "\n",
    "        width = .6\n",
    "        width2 = .09\n",
    "\n",
    "        plt.bar(up.index, up.close-up.open, width, bottom=up.open, color=col1)\n",
    "        plt.bar(up.index, up.high-up.close, width2, bottom=up.close, color=col1)\n",
    "        plt.bar(up.index, up.low-up.open, width2, bottom=up.open, color=col1)\n",
    "\n",
    "        plt.bar(down.index, down.close-down.open, width, bottom=down.open, color=col2)\n",
    "        plt.bar(down.index, down.high-down.open, width2, bottom=down.open, color=col2)\n",
    "        plt.bar(down.index, down.low-down.close, width2, bottom=down.close, color=col2)\n",
    "\n",
    "        plt.axis('off')\n",
    "        plt.savefig(f'imgs_example/image{count}.jpg')\n",
    "        plt.close()\n",
    "        count+=1"
   ]
  }
 ],
 "metadata": {
  "kernelspec": {
   "display_name": "matheus-env",
   "language": "python",
   "name": "python3"
  },
  "language_info": {
   "codemirror_mode": {
    "name": "ipython",
    "version": 3
   },
   "file_extension": ".py",
   "mimetype": "text/x-python",
   "name": "python",
   "nbconvert_exporter": "python",
   "pygments_lexer": "ipython3",
   "version": "3.11.1"
  }
 },
 "nbformat": 4,
 "nbformat_minor": 2
}
